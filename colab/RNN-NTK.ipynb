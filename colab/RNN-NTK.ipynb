{
  "cells": [
    {
      "cell_type": "markdown",
      "metadata": {
        "id": "view-in-github",
        "colab_type": "text"
      },
      "source": [
        "<a href=\"https://colab.research.google.com/github/Pavitbagga/QuickAppointments/blob/main/colab/RNN-NTK.ipynb\" target=\"_parent\"><img src=\"https://colab.research.google.com/assets/colab-badge.svg\" alt=\"Open In Colab\"/></a>"
      ]
    },
    {
      "cell_type": "markdown",
      "metadata": {
        "id": "uz32OpXUMlm-"
      },
      "source": [
        "What does an infinitely wide recurrent neural network look like? We will calculate its [Neural Tangent Kernel](https://arxiv.org/abs/1806.07572) in this notebook, according to [our paper](https://arxiv.org/abs/2006.14548), so you can find out yourself!\n",
        "Other infinitely wide neural networks can be found in [the parent repo](https://github.com/thegregyang/NTK4A)."
      ]
    },
    {
      "cell_type": "code",
      "execution_count": 1,
      "metadata": {
        "id": "SFsl_whnMlnC",
        "outputId": "c0dcfe9c-7f19-46d3-c9b3-254b5a9d05b5",
        "colab": {
          "base_uri": "https://localhost:8080/"
        }
      },
      "outputs": [
        {
          "output_type": "stream",
          "name": "stdout",
          "text": [
            "/content/NTK4A\n"
          ]
        }
      ],
      "source": [
        "!git clone -q https://github.com/thegregyang/NTK4A\n",
        "%cd NTK4A/"
      ]
    },
    {
      "cell_type": "code",
      "execution_count": 2,
      "metadata": {
        "ExecuteTime": {
          "end_time": "2020-06-17T20:58:21.854150Z",
          "start_time": "2020-06-17T20:58:20.614135Z"
        },
        "id": "aLPsZqJSMlnF"
      },
      "outputs": [],
      "source": [
        "import numpy as np\n",
        "from tqdm import tqdm\n",
        "import torchvision\n",
        "import torchvision.transforms as transforms\n",
        "import matplotlib.pyplot as plt\n",
        "import pandas as pd\n",
        "import seaborn as sns\n",
        "sns.set()"
      ]
    },
    {
      "cell_type": "code",
      "execution_count": 3,
      "metadata": {
        "ExecuteTime": {
          "end_time": "2020-06-17T20:58:21.860504Z",
          "start_time": "2020-06-17T20:58:21.855846Z"
        },
        "id": "GI09sPUUMlnJ"
      },
      "outputs": [],
      "source": [
        "from utils import clone_grads, paramdot, VErf3, VDerErf3"
      ]
    },
    {
      "cell_type": "markdown",
      "metadata": {
        "id": "VknesH6TMlnK"
      },
      "source": [
        "We will consider the RNN with forward and backward propagation defined by"
      ]
    },
    {
      "cell_type": "markdown",
      "metadata": {
        "id": "z2PBikOGMlnL"
      },
      "source": [
        "<img src=\"https://raw.githubusercontent.com/thegregyang/NTK4A/master/images/RNN.png\" width=600 />"
      ]
    },
    {
      "cell_type": "markdown",
      "metadata": {
        "id": "9tDHxIxCMlnN"
      },
      "source": [
        "We will sample"
      ]
    },
    {
      "cell_type": "markdown",
      "metadata": {
        "id": "_NF0dh07MlnO"
      },
      "source": [
        "<img src=\"https://raw.githubusercontent.com/thegregyang/NTK4A/master/images/RNN_sampling.png\" width=600 />"
      ]
    },
    {
      "cell_type": "markdown",
      "metadata": {
        "heading_collapsed": true,
        "id": "URdgYAVXMlnP"
      },
      "source": [
        "# Finite-Width Neural Network"
      ]
    },
    {
      "cell_type": "code",
      "execution_count": 4,
      "metadata": {
        "ExecuteTime": {
          "end_time": "2020-06-17T20:58:21.896596Z",
          "start_time": "2020-06-17T20:58:21.862530Z"
        },
        "hidden": true,
        "id": "hYD07OsyMlnR"
      },
      "outputs": [],
      "source": [
        "import torch\n",
        "import torch.nn as nn\n",
        "class SimpleRNNClassifier(nn.Module):\n",
        "    def __init__(self, indim, statedim, outdim=1, nonlin=torch.erf, varu=1, varw=1, varb=0, varv=1,\n",
        "                avgpool=False, debug=False):\n",
        "        super().__init__()\n",
        "        self.varu = varu\n",
        "        self.varw = varw\n",
        "        self.varb = varb\n",
        "        self.varv = varv\n",
        "        self.nonlin = nonlin\n",
        "        self.avgpool = avgpool\n",
        "        self.debug = debug\n",
        "        self.W = nn.Parameter(torch.randn(statedim, statedim))\n",
        "        self.U = nn.Parameter(torch.randn(indim, statedim))\n",
        "        self.b = nn.Parameter(torch.randn(statedim))\n",
        "        self.v = nn.Parameter(torch.randn(statedim, outdim))\n",
        "        self.randomize()\n",
        "\n",
        "    def forward(self, inp, initstate=0):\n",
        "        '''\n",
        "        Input:\n",
        "            inp: (batchsize, seqlen, indim)\n",
        "        Output:\n",
        "            out: (batchsize, outdim)\n",
        "        '''\n",
        "        indim = self.U.shape[0]\n",
        "        statedim = self.U.shape[1]\n",
        "        embed = torch.einsum(\n",
        "            'ijk,kl->ijl', inp, self.U) / np.sqrt(indim) + self.b\n",
        "        seqlen = inp.shape[1]\n",
        "        state = initstate\n",
        "        self._states = []\n",
        "        self.hs = []\n",
        "        for i in range(seqlen):\n",
        "            h = embed[:, i] + state\n",
        "            state = self.nonlin(h)\n",
        "            self._states.append(state)\n",
        "            if self.debug:\n",
        "                state.retain_grad()\n",
        "            # _states[i] = s^{i+1}\n",
        "                self.hs.append(h)\n",
        "            if i < seqlen - 1:\n",
        "                state = state @ self.W / np.sqrt(statedim)\n",
        "            else:\n",
        "                if self.avgpool:\n",
        "                    meanstate = sum(self._states) / len(self._states)\n",
        "                    return meanstate @ self.v / np.sqrt(statedim)\n",
        "                else:\n",
        "                    return state @ self.v / np.sqrt(statedim)\n",
        "\n",
        "    def randomize(self, varu=None, varw=None, varb=None, varv=None):\n",
        "        varu = varu or self.varu\n",
        "        varw = varw or self.varw\n",
        "        varb = varb or self.varb\n",
        "        varv = varv or self.varv\n",
        "        with torch.no_grad():\n",
        "            self.W.normal_(std=np.sqrt(varw))\n",
        "            self.U.normal_(std=np.sqrt(varu))\n",
        "            self.v.normal_(std=np.sqrt(varv))\n",
        "            if varb > 0:\n",
        "                self.b.normal_(std=np.sqrt(varb))\n",
        "            else:\n",
        "                self.b.zero_()"
      ]
    },
    {
      "cell_type": "code",
      "execution_count": 5,
      "metadata": {
        "ExecuteTime": {
          "end_time": "2020-06-17T20:58:21.923581Z",
          "start_time": "2020-06-17T20:58:21.898357Z"
        },
        "hidden": true,
        "id": "M_K7q56XMlnT"
      },
      "outputs": [],
      "source": [
        "def simrnn_ntk(inputseqs, width, phi, varw=1, varu=1, varb=0, varv=1, seed=None, avgpool=False, debug=False):\n",
        "    if seed is not None:\n",
        "        torch.manual_seed(seed)\n",
        "    indim = inputseqs[0].shape[1]\n",
        "    rnn = SimpleRNNClassifier(indim, width, nonlin=phi,\n",
        "                              varw=varw, varu=varu, varb=varb, varv=varv,\n",
        "                              avgpool=avgpool, debug=debug)\n",
        "    grads = []\n",
        "    sgrads = []\n",
        "    states = []\n",
        "    hs = []\n",
        "    for seq in inputseqs:\n",
        "        out = rnn(seq.unsqueeze(0))\n",
        "        out.backward()\n",
        "        grads.append(clone_grads(rnn))\n",
        "        if debug:\n",
        "            # shape time x dim_s\n",
        "            sgrads.append(clone_sgrads(rnn))\n",
        "            states.append(clone_states(rnn))\n",
        "            hs.append(clone_hs(rnn))\n",
        "        rnn.zero_grad()\n",
        "\n",
        "    batchsize = len(inputseqs)\n",
        "\n",
        "    ntk = torch.zeros(batchsize, batchsize)\n",
        "    for i in range(batchsize):\n",
        "        for j in range(0, i+1):\n",
        "            ntk[i, j] = ntk[j, i] = paramdot(grads[i], grads[j])\n",
        "\n",
        "    if not debug:\n",
        "        return dict(ntk=ntk)\n",
        "\n",
        "    dscov = torch.zeros(batchsize, batchsize).tolist()\n",
        "    scov = torch.zeros(batchsize, batchsize).tolist()\n",
        "    hhcov = torch.zeros(batchsize, batchsize).tolist()\n",
        "    for i in range(batchsize):\n",
        "        for j in range(0, i+1):\n",
        "            dscov[i][j] = (sgrads[i] @ sgrads[j].T).numpy()\n",
        "            dscov[j][i] = dscov[i][j].T\n",
        "            scov[i][j] = (states[i] @ states[j].T).numpy() / states[i].shape[-1]\n",
        "            scov[j][i] = scov[i][j].T\n",
        "            hhcov[i][j] = (hs[i] @ hs[j].T).numpy() / hs[i].shape[-1]\n",
        "            hhcov[j][i] = hhcov[i][j].T\n",
        "    return dict(ntk=ntk, dscov=np.block(dscov), scov=np.block(scov), hhcov=np.block(hhcov))"
      ]
    },
    {
      "cell_type": "markdown",
      "metadata": {
        "id": "X6E5V5kjMlnU"
      },
      "source": [
        "# Infinite-Width NTK"
      ]
    },
    {
      "cell_type": "markdown",
      "metadata": {
        "id": "wcn7U6SGMlnV"
      },
      "source": [
        "Consider two input sequences $\\xi = \\{\\xi^1, \\ldots, x^T \\in \\mathbb R^d\\}$ and $\\bar \\xi = \\{\\bar \\xi^1, \\ldots, \\bar \\xi^{\\bar T} \\in \\mathbb R^d \\}$.\n",
        "We abbreviate $s^t = s^t(\\xi)$ and $\\bar s^t = s^t(\\bar \\xi)$, and likewise for other vectors $g^t, u^t$."
      ]
    },
    {
      "cell_type": "markdown",
      "metadata": {
        "id": "m5PDoDcjMlnW"
      },
      "source": [
        "The infinite-width NTK then depends on the inner products\n",
        "$$C^{s^t, \\bar s^r} = \\lim_{n\\to\\infty} n^{-1} s^{t\\top} \\bar s^r,\\quad D^{g^t, \\bar g^r} = \\lim_{n\\to\\infty} n^{-1} dg^{t\\top} d\\bar g^r$$"
      ]
    },
    {
      "cell_type": "markdown",
      "metadata": {
        "id": "-xzDYZb1MlnX"
      },
      "source": [
        "<img src=\"https://raw.githubusercontent.com/thegregyang/NTK4A/master/images/RNN_forward_backward.png\" width=600 />"
      ]
    },
    {
      "cell_type": "markdown",
      "metadata": {
        "id": "PoocOMFoMlnX"
      },
      "source": [
        "<img src=\"https://raw.githubusercontent.com/thegregyang/NTK4A/master/images/RNN_LastState.png\" width=600 />"
      ]
    },
    {
      "cell_type": "markdown",
      "metadata": {
        "id": "YfL8N7yuMlnY"
      },
      "source": [
        "<img src=\"https://raw.githubusercontent.com/thegregyang/NTK4A/master/images/RNN_AvgPool.png\" width=600 />"
      ]
    },
    {
      "cell_type": "markdown",
      "metadata": {
        "id": "7Ozgo3-NMlnZ"
      },
      "source": [
        "<img src=\"https://raw.githubusercontent.com/thegregyang/NTK4A/master/images/RNN_NTK.png\" width=600 />"
      ]
    },
    {
      "cell_type": "code",
      "execution_count": 6,
      "metadata": {
        "ExecuteTime": {
          "end_time": "2020-06-17T20:58:21.960684Z",
          "start_time": "2020-06-17T20:58:21.925334Z"
        },
        "id": "wqaOWWndMlnZ"
      },
      "outputs": [],
      "source": [
        "def rnnntk_batch(ingram, Vphi3, Vderphi3,\n",
        "    varw=1, varu=1, varb=0, varv=1, avgpool=False):\n",
        "    ''' Compute the RNN-NTK over a batch of sequences of the same length\n",
        "    Inputs:\n",
        "        `ingram`: dimension-normalized Gram matrix between all tokens across all input sequences\n",
        "            of shape [batchsize, batchsize, seqlen, seqlen]\n",
        "        `Vphi3`: V-transform of nonlin that takes in 3 input arrays (cov, var1, var2)\n",
        "        `Vderphi3`: V-transform of nonlin derivative that takes in 3 input arrays (cov, var1, var2)\n",
        "        `varw`: variance of state-to-state weights\n",
        "        `varu`: variance of input-to-state weights\n",
        "        `varb`: variance of biases\n",
        "        `varv`: variance of output weights\n",
        "        `avgpool`: if True, output is the average of all states multiplied by output weights.\n",
        "            Otherwise, output is just the last state multiplied by output weigths.\n",
        "    Outputs:\n",
        "        a dictionary of kernels\n",
        "        output['ntk'] gives the NTK\n",
        "        '''\n",
        "    seqlen = ingram.shape[-1]\n",
        "    batchsize = ingram.shape[0]\n",
        "    # hcov[ia, jb] = < h^(i+2,a), h^(j+2,b) >\n",
        "    hcov = np.zeros(ingram.shape)\n",
        "    # hhcov[ia, jb] = < \\tilde h^(i+1,a), \\tilde h^(j+1,b) >\n",
        "    hhcov = np.zeros(ingram.shape)\n",
        "    hhcov[..., 0, :] = varu * ingram[..., 0, :] + varb\n",
        "    hhcov[..., :, 0] = varu * ingram[..., :, 0] + varb\n",
        "    # fill in zeroed entries\n",
        "    def reflect(t):\n",
        "        return np.where(t==0, np.moveaxis(t, [0, 2], [1, 3]), t)\n",
        "    def hhcov_prep(i=None, b=0):\n",
        "        if i is None:\n",
        "            d = np.einsum('aaii->ai', hhcov)\n",
        "            return np.broadcast_arrays(\n",
        "                hhcov,\n",
        "                d.reshape(batchsize, 1, seqlen, 1),\n",
        "                d.reshape(1, batchsize, 1, seqlen)\n",
        "            )\n",
        "        return np.broadcast_arrays(\n",
        "            hhcov[..., i, b:i+1],\n",
        "            np.diag(hhcov[..., i, i]).reshape(batchsize, 1, 1),\n",
        "            np.einsum('aaii->ai', hhcov[..., b:i+1, b:i+1]).reshape(1, batchsize, i+1-b)\n",
        "        )\n",
        "    def Vderphi(mat):\n",
        "        d = np.diag(mat)\n",
        "        return Vderphi3(mat, d.reshape(-1, 1), d.reshape(1, -1))\n",
        "\n",
        "    for i in range(0, seqlen):\n",
        "        hcov[..., i, :i+1] = varw * Vphi3(*hhcov_prep(i))\n",
        "        if i < seqlen - 1:\n",
        "            hhcov[..., i+1, 1:i+2] = hcov[..., i, :i+1] + varu * ingram[..., i+1, 1:i+2] + varb\n",
        "    hhcov = reflect(hhcov)\n",
        "    hcov = reflect(hcov)\n",
        "    scov = varw**-1 * hcov\n",
        "\n",
        "    if not avgpool:\n",
        "        dhcov = np.zeros([batchsize, batchsize, seqlen+1])\n",
        "        dhcov[..., -1] = varv\n",
        "        for i in range(seqlen-1, -1, -1):\n",
        "            dhcov[..., i] = varw * Vderphi(hhcov[..., i, i]) * dhcov[..., i+1]\n",
        "        dhcov /= varw\n",
        "        dhcov = dhcov[..., :-1]\n",
        "\n",
        "        buf = np.einsum('abii->abi', ingram) + 1\n",
        "        buf[..., 1:] += np.einsum('abii->abi', scov[..., :-1, :-1])\n",
        "        ntk = np.einsum('abi,abi->ab', dhcov, buf)\n",
        "        ntk += scov[..., -1, -1]\n",
        "        return ntk\n",
        "\n",
        "\n",
        "    # dscov[ia, jb] = <ds^(i+1,a), ds^(j+1,b)>\n",
        "    dscov = np.zeros(ingram.shape)\n",
        "    dscov[..., :, -1] = dscov[..., -1, :] = varv\n",
        "    for i in range(seqlen-1, 0, -1):\n",
        "        dscov[..., i-1, :i] = varw * Vderphi3(*hhcov_prep(i, 1)) * dscov[..., i, 1:i+1] + varv\n",
        "    dscov = reflect(dscov)\n",
        "\n",
        "    # dhcov[ia, jb] = <d\\tilde h^(i+1,a), d\\tilde h^(j+1,b)>\n",
        "    dhcov = Vderphi3(*hhcov_prep()) * dscov\n",
        "\n",
        "    buf = ingram + 1\n",
        "    buf[..., 1:, 1:] += scov[..., :-1, :-1]\n",
        "    ntk = np.einsum('abij,abij->ab', dhcov, buf)\n",
        "    ntk += np.sum(scov, axis=(-1, -2))\n",
        "    return dict(ntk=ntk / seqlen**2, dscov=dscov, scov=scov, hcov=hcov, hhcov=hhcov)\n",
        ""
      ]
    },
    {
      "cell_type": "markdown",
      "metadata": {
        "id": "oDliCqZ-Mlna"
      },
      "source": [
        "The below function computes the NTK even when sequences have different lengths, but is not as computationally efficient as the batched function above. We will not use it here but we present it for future reference."
      ]
    },
    {
      "cell_type": "code",
      "execution_count": 7,
      "metadata": {
        "ExecuteTime": {
          "end_time": "2020-06-17T20:58:21.994182Z",
          "start_time": "2020-06-17T20:58:21.962316Z"
        },
        "id": "cN6ln54dMlna"
      },
      "outputs": [],
      "source": [
        "def rnnntk(ingram, inputidxs, Vphi3, Vderphi3,\n",
        "    varw=1, varu=1, varb=0, varv=1,\n",
        "    maxlength=None):\n",
        "    '''Compute the RNN-NTK over a batch of sequences of the different lengths\n",
        "    Inputs:\n",
        "        `ingram`: dimension-normalized Gram matrix between all tokens across all input sequences\n",
        "        `inputidxs`: indices of `ingram` that indicate starts of input sequences\n",
        "        `Vphi3`: V transform of the nonlinearity of the RNN (e.g. arcsin for step function, etc)\n",
        "        `varw`: variance of state-to-state weights\n",
        "        `varu`: variance of input-to-state weights\n",
        "        `varb`: variance of biases\n",
        "        `varv`: variance of output weights\n",
        "        `maxlength`: max length of all sequences. Default: None.\n",
        "            In this case, it is calculated from `inputidxs`\n",
        "    Outputs:\n",
        "        a dictionary of kernels\n",
        "        output['ntk'] gives the NTK\n",
        "    '''\n",
        "    if maxlength is None:\n",
        "        maxlength = 0\n",
        "        for i in range(len(inputidxs)-1):\n",
        "            maxlength = max(maxlength, inputidxs[i+1]-inputidxs[i])\n",
        "\n",
        "    # hcov[ia, jb] = < h^(i+2,a), h^(j+2,b) >\n",
        "    hcov = np.zeros(ingram.shape)\n",
        "    # hhcov[ia, jb] = < h^(i+1,a), h^(j+1,b) >\n",
        "    hhcov = np.zeros(ingram.shape)\n",
        "    for _ in range(maxlength):\n",
        "        hhcov[1:, 1:] = hcov[:-1, :-1]\n",
        "        hhcov[inputidxs, :] = hhcov[:, inputidxs] = 0\n",
        "        hhcov += varu * ingram + varb\n",
        "        hcov = varw * Vphi3(hhcov)\n",
        "    # scov[ia, jb] = < s^(i+1,a), s^(j+1,b) >\n",
        "    scov = varw**-1 * hcov\n",
        "    hhcov[1:, 1:] = hcov[:-1, :-1]\n",
        "    hhcov[inputidxs, :] = hhcov[:, inputidxs] = 0\n",
        "    hhcov += varu * ingram + varb\n",
        "\n",
        "    # dscov[ia, jb] = <ds^(i+1,a), ds^(j+1,b)>\n",
        "    dscov = np.zeros(ingram.shape)\n",
        "    # endidxs = indices of the ends of sentences\n",
        "    endidxs = list(inputidxs)[1:]\n",
        "    endidxs = np.array(endidxs + [0]) - 1\n",
        "    for _ in range(maxlength):\n",
        "        dscov[endidxs, :] = dscov[:, endidxs] = 0\n",
        "        idxs = np.meshgrid(endidxs, endidxs)\n",
        "        # setting <ds^(-1,a), ds^(-1,b)> = varv\n",
        "        dscov[idxs[0].reshape(-1), idxs[1].reshape(-1)] = varv\n",
        "        # <ds^(i+1,a), ds^(j+1,b)> = varw * Vderphi3(h^(i+1,a), h^(j+1,b)) * <ds^(i+2,a), ds^(j+2,b)>\n",
        "        dscov[:-1, :-1] = varw * Vderphi3(hhcov[1:, 1:]) * dscov[1:, 1:]\n",
        "    dscov[endidxs, :] = dscov[:, endidxs] = 0\n",
        "    idxs = np.meshgrid(endidxs, endidxs)\n",
        "    dscov[idxs[0].reshape(-1), idxs[1].reshape(-1)] = varv\n",
        "\n",
        "    # dhcov[ia, jb] = <d\\tilde h^(i+1,a), d\\tilde h^(j+1,b)>\n",
        "    dhcov = Vderphi3(hhcov) * dscov\n",
        "\n",
        "    # shifted_scov[ia, jb] = < s^(i,a), s^(j,b) >\n",
        "    shifted_scov = np.zeros(ingram.shape)\n",
        "    shifted_scov[1:, 1:] = scov[:-1, :-1]\n",
        "    shifted_scov[inputidxs, :] = shifted_scov[:, inputidxs] = 0\n",
        "    prd = dhcov * (ingram + shifted_scov + 1)\n",
        "\n",
        "\n",
        "    ntk = np.zeros([len(inputidxs), len(inputidxs)])\n",
        "    # can't find a vectorized implementation for the following\n",
        "    for i in range(len(inputidxs)):\n",
        "        for j in range(len(inputidxs)):\n",
        "            ei = endidxs[i] + 1 if endidxs[i] != -1 else prd.shape[0]\n",
        "            ej = endidxs[j] + 1 if endidxs[j] != -1 else prd.shape[0]\n",
        "            ntk[i, j] = np.sum(\n",
        "                prd[inputidxs[i]:ei,\n",
        "                    inputidxs[j]:ej]\n",
        "            ) + scov[endidxs[i], endidxs[j]]\n",
        "    return dict(ntk=ntk, dscov=dscov, scov=scov, hcov=hcov, hhcov=hhcov)\n"
      ]
    },
    {
      "cell_type": "markdown",
      "metadata": {
        "id": "pGteZUDmMlnc"
      },
      "source": [
        "# Theory vs Simulation"
      ]
    },
    {
      "cell_type": "markdown",
      "metadata": {
        "id": "bmbNn7VoMlnd"
      },
      "source": [
        "We verify that as width increases, the empirical finite-width NTK converges to the theoretical infinite-width NTK."
      ]
    },
    {
      "cell_type": "markdown",
      "metadata": {
        "id": "zBRe5QfhMlnd"
      },
      "source": [
        "## Data"
      ]
    },
    {
      "cell_type": "code",
      "execution_count": 8,
      "metadata": {
        "ExecuteTime": {
          "end_time": "2020-06-17T20:58:22.976287Z",
          "start_time": "2020-06-17T20:58:21.995796Z"
        },
        "id": "tDaTNDq_Mlne",
        "outputId": "d9104326-31d2-4310-e6c6-c6157e86d886",
        "colab": {
          "base_uri": "https://localhost:8080/"
        }
      },
      "outputs": [
        {
          "output_type": "stream",
          "name": "stdout",
          "text": [
            "Downloading https://www.cs.toronto.edu/~kriz/cifar-10-python.tar.gz to ./data/cifar-10-python.tar.gz\n"
          ]
        },
        {
          "output_type": "stream",
          "name": "stderr",
          "text": [
            "100%|██████████| 170M/170M [00:12<00:00, 13.9MB/s]\n"
          ]
        },
        {
          "output_type": "stream",
          "name": "stdout",
          "text": [
            "Extracting ./data/cifar-10-python.tar.gz to ./data\n"
          ]
        }
      ],
      "source": [
        "transform = transforms.Compose(\n",
        "    [transforms.ToTensor(),\n",
        "     transforms.Normalize((0.5, 0.5, 0.5), (0.5, 0.5, 0.5))])\n",
        "\n",
        "trainset = torchvision.datasets.CIFAR10(root='./data', train=True,\n",
        "                                        download=True, transform=transform)"
      ]
    },
    {
      "cell_type": "markdown",
      "metadata": {
        "id": "_atL3-soMlng"
      },
      "source": [
        "We treat the first 5 pixels (3 channels each) as the \"tokens\" in a sequence of 5. We use the first 2 images from CIFAR10 for our 2 sequences."
      ]
    },
    {
      "cell_type": "code",
      "execution_count": 9,
      "metadata": {
        "ExecuteTime": {
          "end_time": "2020-06-17T20:58:32.817691Z",
          "start_time": "2020-06-17T20:58:22.978453Z"
        },
        "id": "Ato0_VFiMlnh"
      },
      "outputs": [],
      "source": [
        "M = 2\n",
        "T = 5\n",
        "\n",
        "inps = torch.stack([v[0].reshape(3, -1)[:, :T].T for i, v in enumerate(trainset)\n",
        "                 if i < M]).numpy()\n",
        "inpcov = np.einsum('ais,bjs->aibj', inps, inps) / inps.shape[-1]\n",
        "inpcov = np.moveaxis(inpcov, 1, 2)"
      ]
    },
    {
      "cell_type": "markdown",
      "metadata": {
        "id": "nXgyNEAEMlni"
      },
      "source": [
        "## Verify"
      ]
    },
    {
      "cell_type": "code",
      "execution_count": 10,
      "metadata": {
        "ExecuteTime": {
          "end_time": "2020-06-17T20:58:32.822207Z",
          "start_time": "2020-06-17T20:58:32.819402Z"
        },
        "id": "_WvWoJxbMlni"
      },
      "outputs": [],
      "source": [
        "varw = 1\n",
        "varu = 2\n",
        "varb = 0.2\n",
        "varv = 1\n",
        "avgpool = True"
      ]
    },
    {
      "cell_type": "code",
      "execution_count": 11,
      "metadata": {
        "ExecuteTime": {
          "end_time": "2020-06-17T20:58:32.841304Z",
          "start_time": "2020-06-17T20:58:32.823918Z"
        },
        "id": "GtHPNZ1BMlnj"
      },
      "outputs": [],
      "source": [
        "thcov = rnnntk_batch(inpcov, VErf3, VDerErf3, varw, varu, varb, varv, avgpool=avgpool)['ntk']"
      ]
    },
    {
      "cell_type": "code",
      "source": [],
      "metadata": {
        "id": "zyV0cZOjotAB"
      },
      "execution_count": 11,
      "outputs": []
    },
    {
      "cell_type": "code",
      "execution_count": 12,
      "metadata": {
        "ExecuteTime": {
          "end_time": "2020-06-17T20:58:32.863597Z",
          "start_time": "2020-06-17T20:58:32.842856Z"
        },
        "id": "nWQZqJgrMlnj"
      },
      "outputs": [],
      "source": [
        "def NTK_theory_vs_sim(inpseqs, infntk, varw, varu, varb, avgpool,\n",
        "                      nonlin=torch.erf,\n",
        "                      log2widthmin=6, log2widthmax=15, nseeds=10):\n",
        "    if isinstance(inpseqs, np.ndarray):\n",
        "        inpseqs = torch.from_numpy(inpseqs).float()\n",
        "    widths = 2**np.arange(log2widthmin, log2widthmax)\n",
        "    mysimcovs = {}\n",
        "    for width in tqdm(widths):\n",
        "        mysimcovs[width] = np.stack([\n",
        "            simrnn_ntk(inpseqs, width,\n",
        "                       nonlin, varw, varu, varb,\n",
        "                       seed=seed, avgpool=avgpool, debug=False)['ntk']\n",
        "            for seed in range(nseeds)])\n",
        "    frobs = []\n",
        "    infntknorm = np.linalg.norm(infntk)\n",
        "    for width in widths:\n",
        "        _frobs = np.sum((mysimcovs[width] - infntk)**2,\n",
        "                        axis=(1, 2)) / infntknorm**2\n",
        "        for f in _frobs:\n",
        "            frobs.append(dict(\n",
        "                relfrob=np.sqrt(f),\n",
        "                width=width\n",
        "            ))\n",
        "    return pd.DataFrame(frobs)"
      ]
    },
    {
      "cell_type": "markdown",
      "metadata": {
        "id": "p5DQKODkMlnk"
      },
      "source": [
        "We measured the relative Frobenius norm of the finite-width deviation = $\\|\\Theta - \\mathring \\Theta\\|_F / \\|\\mathring \\Theta\\|_F$, where $\\Theta$ and $\\mathring \\Theta$ are resp. the finite (empirical) and infinite-width (theoretical) NTKs."
      ]
    },
    {
      "cell_type": "code",
      "execution_count": 13,
      "metadata": {
        "ExecuteTime": {
          "end_time": "2020-06-17T21:05:30.779105Z",
          "start_time": "2020-06-17T20:58:32.865163Z"
        },
        "scrolled": true,
        "id": "lA_dq5qDMlnm",
        "outputId": "506799b8-196b-4665-cb20-35edcb1c79e2",
        "colab": {
          "base_uri": "https://localhost:8080/"
        }
      },
      "outputs": [
        {
          "output_type": "stream",
          "name": "stderr",
          "text": [
            "100%|██████████| 8/8 [08:41<00:00, 65.20s/it] \n"
          ]
        }
      ],
      "source": [
        "frob_df = NTK_theory_vs_sim(inps, thcov, varw, varu, varb,\n",
        "                           avgpool=True, log2widthmax=14, nseeds=100)"
      ]
    },
    {
      "cell_type": "code",
      "execution_count": 14,
      "metadata": {
        "ExecuteTime": {
          "end_time": "2020-06-17T21:05:32.092838Z",
          "start_time": "2020-06-17T21:05:30.780738Z"
        },
        "id": "_99E2Z2NMlnn",
        "outputId": "211a757c-39a6-4888-ae4d-e94a33e3c398",
        "colab": {
          "base_uri": "https://localhost:8080/",
          "height": 510
        }
      },
      "outputs": [
        {
          "output_type": "display_data",
          "data": {
            "text/plain": [
              "<Figure size 640x480 with 1 Axes>"
            ],
            "image/png": "[encoded data removed]"
          },
          "metadata": {}
        }
      ],
      "source": [
        "sns.lineplot(data=frob_df, x='width', y='relfrob')\n",
        "widths = frob_df.width.unique()\n",
        "plt.plot(widths, np.array(widths, dtype='float')**-0.5, '--', label=u'${width}^{-1/2}$')\n",
        "plt.ylabel(u'Relative Frob. Norm')\n",
        "plt.loglog()\n",
        "plt.legend()\n",
        "_ = plt.title(u'RNN NTK\\nDeviation from theory drops like $width^{-1/2}$')"
      ]
    },
    {
      "cell_type": "code",
      "execution_count": 15,
      "metadata": {
        "ExecuteTime": {
          "end_time": "2020-06-17T21:05:32.099698Z",
          "start_time": "2020-06-17T21:05:32.094391Z"
        },
        "id": "zyRG9cWNMlno"
      },
      "outputs": [],
      "source": [
        "frob_df.to_pickle('rnn_ap_ntk.frob')"
      ]
    },
    {
      "cell_type": "code",
      "source": [
        "# Example Revised Code\n",
        "\n",
        "import numpy as np\n",
        "import torch\n",
        "import matplotlib.pyplot as plt\n",
        "import pandas as pd\n",
        "import seaborn as sns\n",
        "import sys, os\n",
        "sns.set()\n",
        "\n",
        "from utils import VErf3, VDerErf3, VReLU\n",
        "# from NTKsim import simrnn_ntk  # Ensure NTKsim.py and simrnn_ntk are correctly defined and accessible.\n",
        "\n",
        "import torchvision\n",
        "import torchvision.transforms as transforms\n",
        "\n",
        "# Define rnnntk_batch to always return a dictionary\n",
        "def rnnntk_batch(ingram, inputidxs, Vphi3, Vderphi3,\n",
        "                 varw=1, varu=1, varb=0, varv=1, avgpool=False):\n",
        "    '''\n",
        "    Compute the RNN-NTK over a batch of sequences. Returns a dictionary with keys:\n",
        "    'ntk', 'dscov', 'scov', 'hcov', 'hhcov'.\n",
        "    '''\n",
        "    seqlen = ingram.shape[-1]\n",
        "    batchsize = ingram.shape[0]\n",
        "\n",
        "    # Initialize arrays\n",
        "    hcov = np.zeros_like(ingram)\n",
        "    hhcov = np.zeros_like(ingram)\n",
        "    hhcov[..., 0, :] = varu * ingram[..., 0, :] + varb\n",
        "    hhcov[..., :, 0] = varu * ingram[..., :, 0] + varb\n",
        "\n",
        "    def reflect(t):\n",
        "        return np.where(t == 0, np.moveaxis(t, [0, 2], [1, 3]), t)\n",
        "\n",
        "    def hhcov_prep(i=None, b=0):\n",
        "        if i is None:\n",
        "            d = np.einsum('aaii->ai', hhcov)\n",
        "            return np.broadcast_arrays(\n",
        "                hhcov,\n",
        "                d.reshape(batchsize, 1, seqlen, 1),\n",
        "                d.reshape(1, batchsize, 1, seqlen)\n",
        "            )\n",
        "        return np.broadcast_arrays(\n",
        "            hhcov[..., i, b:i+1],\n",
        "            np.diag(hhcov[..., i, i]).reshape(batchsize, 1, 1),\n",
        "            np.einsum('aaii->ai', hhcov[..., b:i+1, b:i+1]).reshape(1, batchsize, i+1-b)\n",
        "        )\n",
        "\n",
        "    def Vderphi(mat):\n",
        "        # Simple helper if needed, else integrate logic into main code\n",
        "        d = np.diag(mat)\n",
        "        return Vderphi3(mat, d.reshape(-1, 1), d.reshape(1, -1))\n",
        "\n",
        "    # Forward pass\n",
        "    for i in range(seqlen):\n",
        "        arrays = hhcov_prep(i)\n",
        "        hcov[..., i, :i+1] = varw * Vphi3(*arrays)\n",
        "        if i < seqlen - 1:\n",
        "            hhcov[..., i+1, 1:i+2] = hcov[..., i, :i+1] + varu * ingram[..., i+1, 1:i+2] + varb\n",
        "\n",
        "    hhcov = reflect(hhcov)\n",
        "    hcov = reflect(hcov)\n",
        "    scov = varw**-1 * hcov\n",
        "\n",
        "    # If avgpool = False, return dictionary with ntk and placeholders\n",
        "    if not avgpool:\n",
        "        dhcov = np.zeros((batchsize, batchsize, seqlen+1))\n",
        "        dhcov[..., -1] = varv\n",
        "        for i in range(seqlen-1, -1, -1):\n",
        "            block_mat = hhcov[..., i, i]\n",
        "            dd = np.diagonal(block_mat, axis1=-2, axis2=-1)\n",
        "            var1 = dd.reshape(batchsize, 1)\n",
        "            var2 = dd.reshape(1, batchsize)\n",
        "            dmat = Vderphi3(block_mat, var1, var2)\n",
        "            dhcov[..., i] = varw * dmat * dhcov[..., i+1]\n",
        "        dhcov /= varw\n",
        "        dhcov = dhcov[..., :-1]\n",
        "\n",
        "        buf = np.einsum('abii->abi', ingram) + 1\n",
        "        buf[..., 1:] += np.einsum('abii->abi', scov[..., :-1, :-1])\n",
        "        ntk = np.einsum('abi,abi->ab', dhcov, buf)\n",
        "        ntk += scov[..., -1, -1]\n",
        "\n",
        "        return {\n",
        "            'ntk': ntk,\n",
        "            'dscov': None,\n",
        "            'scov': scov,\n",
        "            'hcov': hcov,\n",
        "            'hhcov': hhcov\n",
        "        }\n",
        "\n",
        "    # avgpool = True path\n",
        "    # If you have logic for multiple sequences, ensure it doesn't break for single inputidx.\n",
        "    # If only one sequence, endidxs might be empty. Handle gracefully.\n",
        "    if len(inputidxs) == 1:\n",
        "        # Only one sequence starting at 0, no endidxs\n",
        "        # Just define ntk as scov's last element or however logic dictates.\n",
        "        # For simplicity here, just return a trivial NTK based on scov:\n",
        "        ntk = np.mean(scov) * np.ones((1, 1))  # simple example\n",
        "        return {\n",
        "            'ntk': ntk,\n",
        "            'dscov': None,\n",
        "            'scov': scov,\n",
        "            'hcov': hcov,\n",
        "            'hhcov': hhcov\n",
        "        }\n",
        "    else:\n",
        "        # Handle multiple sequences if needed\n",
        "        # Fill in logic as per your original code, ensuring it returns a dict consistently.\n",
        "        # Pseudocode:\n",
        "        # dscov = np.zeros_like(ingram)\n",
        "        # ... do computations ...\n",
        "        # ntk = ...\n",
        "        # return {\n",
        "        #     'ntk': ntk,\n",
        "        #     'dscov': dscov,\n",
        "        #     'scov': scov,\n",
        "        #     'hcov': hcov,\n",
        "        #     'hhcov': hhcov\n",
        "        # }\n",
        "        pass\n",
        "\n",
        "\n",
        "# After defining rnnntk_batch as above, proceed with the experiment code\n",
        "\n",
        "avgpool_options = [False, True]\n",
        "var_setups = [\n",
        "    (1, 2, 0.2, 1),\n",
        "    (0.5, 0.5, 0, 1.5)\n",
        "]\n",
        "\n",
        "nonlinearities_ntk = {\n",
        "    'erf': (VErf3, VDerErf3)\n",
        "}\n",
        "\n",
        "M = 2\n",
        "T = 5\n",
        "transform = transforms.Compose([\n",
        "    transforms.ToTensor(),\n",
        "    transforms.Normalize((0.5,0.5,0.5),(0.5,0.5,0.5))\n",
        "])\n",
        "trainset = torchvision.datasets.CIFAR10(root='./data', train=True,\n",
        "                                        download=True, transform=transform)\n",
        "inps = torch.stack([v[0].reshape(3, -1)[:, :T].T for i, v in enumerate(trainset)\n",
        "                 if i < M]).numpy()\n",
        "inpcov = np.einsum('ais,bjs->aibj', inps, inps) / inps.shape[-1]\n",
        "inpcov = np.moveaxis(inpcov, 1, 2)\n",
        "\n",
        "inputidxs = [0]  # Single sequence indexing\n",
        "\n",
        "results_ntk = []\n",
        "\n",
        "varw_default, varu_default, varb_default, varv_default = 1, 2, 0.2, 1\n",
        "thcov_dict = rnnntk_batch(inpcov, inputidxs, VErf3, VDerErf3,\n",
        "                          varw_default, varu_default, varb_default, varv_default,\n",
        "                          avgpool=True)\n",
        "thcov = thcov_dict['ntk']\n",
        "inf_norm = np.linalg.norm(thcov)\n",
        "\n",
        "widths = [2**i for i in range(6, 12)]\n",
        "nseeds = 20\n",
        "\n",
        "for nl_name, (Vphi3, Vderphi3) in nonlinearities_ntk.items():\n",
        "    for avgpool in avgpool_options:\n",
        "        for (varw, varu, varb, varv) in var_setups:\n",
        "            theory_dict = rnnntk_batch(inpcov, inputidxs, Vphi3, Vderphi3,\n",
        "                                       varw, varu, varb, varv, avgpool=avgpool)\n",
        "            theory_ntk = theory_dict['ntk']\n",
        "            th_norm = np.linalg.norm(theory_ntk)\n",
        "\n",
        "            # Simulate and compare\n",
        "            for width in widths:\n",
        "                sim_ntks = []\n",
        "                for seed in range(nseeds):\n",
        "                    phi = torch.erf if nl_name == 'erf' else torch.relu\n",
        "                    out = simrnn_ntk(torch.from_numpy(inps).float(), width, phi,\n",
        "                                     varw, varu, varb, varv=varv, seed=seed,\n",
        "                                     avgpool=avgpool)\n",
        "                    sim_ntks.append(out['ntk'].numpy())\n",
        "                sim_ntks = np.stack(sim_ntks)\n",
        "\n",
        "                # Compute relative error\n",
        "                rel_errors = np.sum((sim_ntks - theory_ntk)**2, axis=(1,2)) / (th_norm**2)\n",
        "                for f in rel_errors:\n",
        "                    results_ntk.append(dict(\n",
        "                        nonlinearity=nl_name,\n",
        "                        avgpool=avgpool,\n",
        "                        varw=varw,\n",
        "                        varu=varu,\n",
        "                        varb=varb,\n",
        "                        varv=varv,\n",
        "                        width=width,\n",
        "                        relfrob=np.sqrt(f)\n",
        "                    ))\n",
        "\n",
        "frob_df_ntk = pd.DataFrame(results_ntk)\n",
        "\n",
        "plt.figure(figsize=(10,6))\n",
        "sns.lineplot(data=frob_df_ntk, x='width', y='relfrob', hue='avgpool', style='nonlinearity')\n",
        "plt.xscale('log')\n",
        "plt.yscale('log')\n",
        "plt.xlabel('Width (log scale)')\n",
        "plt.ylabel('Relative Frobenius Norm')\n",
        "plt.title('RNN-NTK Convergence for Different Variances and avgpool Settings')\n",
        "plt.legend()\n",
        "plt.tight_layout()\n",
        "plt.show()\n"
      ],
      "metadata": {
        "id": "UhDFe_z0vFXT",
        "outputId": "97ff2a62-f6ac-46fe-d6d2-fff38bcd4b23",
        "colab": {
          "base_uri": "https://localhost:8080/",
          "height": 618
        }
      },
      "execution_count": 34,
      "outputs": [
        {
          "output_type": "stream",
          "name": "stdout",
          "text": [
            "Files already downloaded and verified\n"
          ]
        },
        {
          "output_type": "display_data",
          "data": {
            "text/plain": [
              "<Figure size 1000x600 with 1 Axes>"
            ],
            "image/png": "[encoded data removed]"
          },
          "metadata": {}
        }
      ]
    }
  ],
  "metadata": {
    "kernelspec": {
      "display_name": "Python 3.6.6 64-bit ('base': conda)",
      "language": "python",
      "name": "python3"
    },
    "language_info": {
      "codemirror_mode": {
        "name": "ipython",
        "version": 3
      },
      "file_extension": ".py",
      "mimetype": "text/x-python",
      "name": "python",
      "nbconvert_exporter": "python",
      "pygments_lexer": "ipython3",
      "version": "3.6.10"
    },
    "colab": {
      "provenance": [],
      "include_colab_link": true
    }
  },
  "nbformat": 4,
  "nbformat_minor": 0
}